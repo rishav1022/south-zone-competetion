{
 "cells": [
  {
   "cell_type": "markdown",
   "id": "fa6fee35",
   "metadata": {},
   "source": [
    "Crack this Business Problem\n",
    "\n",
    "Renting a house or an apartment is never easy. Whether you are a college student or a working professional, renting a place always seems like a daunting task that is often impulsive or risky. Rent is influenced by several factors.\n",
    "\n",
    "In this challenge, participants will predict the house-rents using data science methods, machine learning, and hyperparameter tuning.\n",
    "\n",
    "The challenge will start on May 12, 2022 and run till May 31, 2022. \n",
    "\n"
   ]
  },
  {
   "cell_type": "code",
   "execution_count": 105,
   "id": "24d1d43e",
   "metadata": {},
   "outputs": [],
   "source": [
    "import numpy as np\n",
    "import pandas as pd\n",
    "import matplotlib.pyplot as plt\n",
    "import seaborn as sns\n",
    "from pandas import DataFrame,Series\n",
    "import warnings\n",
    "warnings.filterwarnings('ignore')\n",
    "import scipy.stats as stats\n",
    "from yellowbrick.cluster import SilhouetteVisualizer\n",
    "from sklearn.cluster import AgglomerativeClustering,DBSCAN\n",
    "from sklearn.preprocessing import StandardScaler\n",
    "import warnings\n",
    "warnings.filterwarnings('ignore')\n",
    "pd.options.display.max_columns=None"
   ]
  },
  {
   "cell_type": "code",
   "execution_count": 106,
   "id": "c51fd6da",
   "metadata": {},
   "outputs": [
    {
     "data": {
      "text/html": [
       "<div>\n",
       "<style scoped>\n",
       "    .dataframe tbody tr th:only-of-type {\n",
       "        vertical-align: middle;\n",
       "    }\n",
       "\n",
       "    .dataframe tbody tr th {\n",
       "        vertical-align: top;\n",
       "    }\n",
       "\n",
       "    .dataframe thead th {\n",
       "        text-align: right;\n",
       "    }\n",
       "</style>\n",
       "<table border=\"1\" class=\"dataframe\">\n",
       "  <thead>\n",
       "    <tr style=\"text-align: right;\">\n",
       "      <th></th>\n",
       "      <th>Property_ID</th>\n",
       "      <th>room</th>\n",
       "      <th>layout_type</th>\n",
       "      <th>property_type</th>\n",
       "      <th>locality</th>\n",
       "      <th>price</th>\n",
       "      <th>area</th>\n",
       "      <th>furnish_type</th>\n",
       "      <th>bathroom</th>\n",
       "      <th>city</th>\n",
       "      <th>parking_spaces</th>\n",
       "      <th>floor</th>\n",
       "      <th>pet_friendly</th>\n",
       "      <th>power_backup</th>\n",
       "      <th>washing_machine</th>\n",
       "      <th>air_conditioner</th>\n",
       "      <th>geyser/solar</th>\n",
       "      <th>security_deposit</th>\n",
       "      <th>CCTV/security</th>\n",
       "      <th>lift</th>\n",
       "      <th>neighbourhood</th>\n",
       "    </tr>\n",
       "  </thead>\n",
       "  <tbody>\n",
       "    <tr>\n",
       "      <th>0</th>\n",
       "      <td>42208</td>\n",
       "      <td>3</td>\n",
       "      <td>BHK</td>\n",
       "      <td>Independent House</td>\n",
       "      <td>Palavakkam</td>\n",
       "      <td>33624</td>\n",
       "      <td>1312</td>\n",
       "      <td>Furnished</td>\n",
       "      <td>2</td>\n",
       "      <td>Chennai</td>\n",
       "      <td>1</td>\n",
       "      <td>1</td>\n",
       "      <td>1</td>\n",
       "      <td>0</td>\n",
       "      <td>0</td>\n",
       "      <td>1</td>\n",
       "      <td>0</td>\n",
       "      <td>302616</td>\n",
       "      <td>0</td>\n",
       "      <td>0</td>\n",
       "      <td>300</td>\n",
       "    </tr>\n",
       "    <tr>\n",
       "      <th>1</th>\n",
       "      <td>90879</td>\n",
       "      <td>1</td>\n",
       "      <td>BHK</td>\n",
       "      <td>Apartment</td>\n",
       "      <td>Manikonda</td>\n",
       "      <td>9655</td>\n",
       "      <td>1474</td>\n",
       "      <td>Unfurnished</td>\n",
       "      <td>2</td>\n",
       "      <td>Hyderabad</td>\n",
       "      <td>0</td>\n",
       "      <td>17</td>\n",
       "      <td>0</td>\n",
       "      <td>1</td>\n",
       "      <td>0</td>\n",
       "      <td>0</td>\n",
       "      <td>1</td>\n",
       "      <td>19310</td>\n",
       "      <td>0</td>\n",
       "      <td>1</td>\n",
       "      <td>1600</td>\n",
       "    </tr>\n",
       "    <tr>\n",
       "      <th>2</th>\n",
       "      <td>99943</td>\n",
       "      <td>3</td>\n",
       "      <td>BHK</td>\n",
       "      <td>Apartment</td>\n",
       "      <td>Jodhpur Park</td>\n",
       "      <td>23699</td>\n",
       "      <td>1837</td>\n",
       "      <td>Semi-Furnished</td>\n",
       "      <td>2</td>\n",
       "      <td>Kolkata</td>\n",
       "      <td>0</td>\n",
       "      <td>10</td>\n",
       "      <td>1</td>\n",
       "      <td>1</td>\n",
       "      <td>1</td>\n",
       "      <td>1</td>\n",
       "      <td>0</td>\n",
       "      <td>118495</td>\n",
       "      <td>0</td>\n",
       "      <td>1</td>\n",
       "      <td>3100</td>\n",
       "    </tr>\n",
       "    <tr>\n",
       "      <th>3</th>\n",
       "      <td>113926</td>\n",
       "      <td>1</td>\n",
       "      <td>BHK</td>\n",
       "      <td>Apartment</td>\n",
       "      <td>Chembur</td>\n",
       "      <td>6306</td>\n",
       "      <td>606</td>\n",
       "      <td>Unfurnished</td>\n",
       "      <td>1</td>\n",
       "      <td>Mumbai</td>\n",
       "      <td>0</td>\n",
       "      <td>18</td>\n",
       "      <td>0</td>\n",
       "      <td>0</td>\n",
       "      <td>0</td>\n",
       "      <td>0</td>\n",
       "      <td>0</td>\n",
       "      <td>37836</td>\n",
       "      <td>0</td>\n",
       "      <td>1</td>\n",
       "      <td>300</td>\n",
       "    </tr>\n",
       "    <tr>\n",
       "      <th>4</th>\n",
       "      <td>185438</td>\n",
       "      <td>1</td>\n",
       "      <td>BHK</td>\n",
       "      <td>Studio Apartment</td>\n",
       "      <td>Kalewadi Pandhapur Road</td>\n",
       "      <td>12008</td>\n",
       "      <td>498</td>\n",
       "      <td>Semi-Furnished</td>\n",
       "      <td>3</td>\n",
       "      <td>Pune</td>\n",
       "      <td>0</td>\n",
       "      <td>14</td>\n",
       "      <td>0</td>\n",
       "      <td>0</td>\n",
       "      <td>1</td>\n",
       "      <td>1</td>\n",
       "      <td>0</td>\n",
       "      <td>72048</td>\n",
       "      <td>0</td>\n",
       "      <td>1</td>\n",
       "      <td>0</td>\n",
       "    </tr>\n",
       "  </tbody>\n",
       "</table>\n",
       "</div>"
      ],
      "text/plain": [
       "   Property_ID  room layout_type      property_type                 locality  \\\n",
       "0        42208     3         BHK  Independent House               Palavakkam   \n",
       "1        90879     1         BHK          Apartment                Manikonda   \n",
       "2        99943     3         BHK          Apartment             Jodhpur Park   \n",
       "3       113926     1         BHK          Apartment                  Chembur   \n",
       "4       185438     1         BHK   Studio Apartment  Kalewadi Pandhapur Road   \n",
       "\n",
       "   price  area    furnish_type  bathroom       city  parking_spaces  floor  \\\n",
       "0  33624  1312       Furnished         2    Chennai               1      1   \n",
       "1   9655  1474     Unfurnished         2  Hyderabad               0     17   \n",
       "2  23699  1837  Semi-Furnished         2    Kolkata               0     10   \n",
       "3   6306   606     Unfurnished         1     Mumbai               0     18   \n",
       "4  12008   498  Semi-Furnished         3       Pune               0     14   \n",
       "\n",
       "   pet_friendly  power_backup  washing_machine  air_conditioner  geyser/solar  \\\n",
       "0             1             0                0                1             0   \n",
       "1             0             1                0                0             1   \n",
       "2             1             1                1                1             0   \n",
       "3             0             0                0                0             0   \n",
       "4             0             0                1                1             0   \n",
       "\n",
       "   security_deposit  CCTV/security  lift  neighbourhood  \n",
       "0            302616              0     0            300  \n",
       "1             19310              0     1           1600  \n",
       "2            118495              0     1           3100  \n",
       "3             37836              0     1            300  \n",
       "4             72048              0     1              0  "
      ]
     },
     "execution_count": 106,
     "metadata": {},
     "output_type": "execute_result"
    }
   ],
   "source": [
    "train=pd.read_csv('train.csv')\n",
    "train.head()"
   ]
  },
  {
   "cell_type": "code",
   "execution_count": 107,
   "id": "5abd681f",
   "metadata": {},
   "outputs": [],
   "source": [
    "test=pd.read_csv('test.csv')"
   ]
  },
  {
   "cell_type": "code",
   "execution_count": 108,
   "id": "9f1eb8b7",
   "metadata": {},
   "outputs": [
    {
     "data": {
      "text/plain": [
       "((57722, 21), (134683, 21))"
      ]
     },
     "execution_count": 108,
     "metadata": {},
     "output_type": "execute_result"
    }
   ],
   "source": [
    "test.shape,train.shape"
   ]
  },
  {
   "cell_type": "code",
   "execution_count": 109,
   "id": "bf87a625",
   "metadata": {},
   "outputs": [],
   "source": [
    "# base model\n",
    "# regression -null model"
   ]
  },
  {
   "cell_type": "code",
   "execution_count": 110,
   "id": "0f03c2dd",
   "metadata": {},
   "outputs": [
    {
     "data": {
      "text/plain": [
       "36690.033894403896"
      ]
     },
     "execution_count": 110,
     "metadata": {},
     "output_type": "execute_result"
    }
   ],
   "source": [
    "train.price.mean()"
   ]
  },
  {
   "cell_type": "code",
   "execution_count": 111,
   "id": "a52ebd8a",
   "metadata": {},
   "outputs": [],
   "source": [
    "test['price']=train.price.mean()\n",
    "solution=pd.DataFrame({'price':test.price})"
   ]
  },
  {
   "cell_type": "code",
   "execution_count": 112,
   "id": "9a447964",
   "metadata": {},
   "outputs": [],
   "source": [
    "# export the data outside\n",
    "solution.to_csv('Basemodel.csv',index=False) # RMSE"
   ]
  },
  {
   "cell_type": "code",
   "execution_count": 113,
   "id": "0e374985",
   "metadata": {},
   "outputs": [],
   "source": [
    "test=test.drop('price',axis=1)"
   ]
  },
  {
   "cell_type": "code",
   "execution_count": 114,
   "id": "b24aeaad",
   "metadata": {},
   "outputs": [],
   "source": [
    "# combined the data and start the eda\n"
   ]
  },
  {
   "cell_type": "code",
   "execution_count": 115,
   "id": "1b885e82",
   "metadata": {},
   "outputs": [],
   "source": [
    "combined=pd.concat([train,test],ignore_index=True)"
   ]
  },
  {
   "cell_type": "code",
   "execution_count": 116,
   "id": "fff995b0",
   "metadata": {},
   "outputs": [
    {
     "data": {
      "text/plain": [
       "(192405, 21)"
      ]
     },
     "execution_count": 116,
     "metadata": {},
     "output_type": "execute_result"
    }
   ],
   "source": [
    "combined.shape"
   ]
  },
  {
   "cell_type": "code",
   "execution_count": 117,
   "id": "86584d27",
   "metadata": {},
   "outputs": [],
   "source": [
    "# univariate ana\n",
    "# bivariate ana\n",
    "# check the missing value\n",
    "# if needed we will scale the data\n",
    "# feTature engineering\n",
    "# model-building-linear model,Decision tree,random forest"
   ]
  },
  {
   "cell_type": "code",
   "execution_count": 118,
   "id": "65465b6b",
   "metadata": {},
   "outputs": [
    {
     "data": {
      "text/plain": [
       "Property_ID             0\n",
       "room                    0\n",
       "layout_type             0\n",
       "property_type           0\n",
       "locality                0\n",
       "price               57722\n",
       "area                    0\n",
       "furnish_type            0\n",
       "bathroom                0\n",
       "city                    0\n",
       "parking_spaces          0\n",
       "floor                   0\n",
       "pet_friendly            0\n",
       "power_backup            0\n",
       "washing_machine         0\n",
       "air_conditioner         0\n",
       "geyser/solar            0\n",
       "security_deposit        0\n",
       "CCTV/security           0\n",
       "lift                    0\n",
       "neighbourhood           0\n",
       "dtype: int64"
      ]
     },
     "execution_count": 118,
     "metadata": {},
     "output_type": "execute_result"
    }
   ],
   "source": [
    "combined.isnull().sum()"
   ]
  },
  {
   "cell_type": "code",
   "execution_count": 119,
   "id": "1fc500f5",
   "metadata": {},
   "outputs": [
    {
     "data": {
      "text/html": [
       "<div>\n",
       "<style scoped>\n",
       "    .dataframe tbody tr th:only-of-type {\n",
       "        vertical-align: middle;\n",
       "    }\n",
       "\n",
       "    .dataframe tbody tr th {\n",
       "        vertical-align: top;\n",
       "    }\n",
       "\n",
       "    .dataframe thead th {\n",
       "        text-align: right;\n",
       "    }\n",
       "</style>\n",
       "<table border=\"1\" class=\"dataframe\">\n",
       "  <thead>\n",
       "    <tr style=\"text-align: right;\">\n",
       "      <th></th>\n",
       "      <th>Property_ID</th>\n",
       "      <th>room</th>\n",
       "      <th>price</th>\n",
       "      <th>area</th>\n",
       "      <th>bathroom</th>\n",
       "      <th>parking_spaces</th>\n",
       "      <th>floor</th>\n",
       "      <th>pet_friendly</th>\n",
       "      <th>power_backup</th>\n",
       "      <th>washing_machine</th>\n",
       "      <th>air_conditioner</th>\n",
       "      <th>geyser/solar</th>\n",
       "      <th>security_deposit</th>\n",
       "      <th>CCTV/security</th>\n",
       "      <th>lift</th>\n",
       "      <th>neighbourhood</th>\n",
       "    </tr>\n",
       "  </thead>\n",
       "  <tbody>\n",
       "    <tr>\n",
       "      <th>0</th>\n",
       "      <td>42208</td>\n",
       "      <td>3</td>\n",
       "      <td>33624.0</td>\n",
       "      <td>1312</td>\n",
       "      <td>2</td>\n",
       "      <td>1</td>\n",
       "      <td>1</td>\n",
       "      <td>1</td>\n",
       "      <td>0</td>\n",
       "      <td>0</td>\n",
       "      <td>1</td>\n",
       "      <td>0</td>\n",
       "      <td>302616</td>\n",
       "      <td>0</td>\n",
       "      <td>0</td>\n",
       "      <td>300</td>\n",
       "    </tr>\n",
       "    <tr>\n",
       "      <th>1</th>\n",
       "      <td>90879</td>\n",
       "      <td>1</td>\n",
       "      <td>9655.0</td>\n",
       "      <td>1474</td>\n",
       "      <td>2</td>\n",
       "      <td>0</td>\n",
       "      <td>17</td>\n",
       "      <td>0</td>\n",
       "      <td>1</td>\n",
       "      <td>0</td>\n",
       "      <td>0</td>\n",
       "      <td>1</td>\n",
       "      <td>19310</td>\n",
       "      <td>0</td>\n",
       "      <td>1</td>\n",
       "      <td>1600</td>\n",
       "    </tr>\n",
       "    <tr>\n",
       "      <th>2</th>\n",
       "      <td>99943</td>\n",
       "      <td>3</td>\n",
       "      <td>23699.0</td>\n",
       "      <td>1837</td>\n",
       "      <td>2</td>\n",
       "      <td>0</td>\n",
       "      <td>10</td>\n",
       "      <td>1</td>\n",
       "      <td>1</td>\n",
       "      <td>1</td>\n",
       "      <td>1</td>\n",
       "      <td>0</td>\n",
       "      <td>118495</td>\n",
       "      <td>0</td>\n",
       "      <td>1</td>\n",
       "      <td>3100</td>\n",
       "    </tr>\n",
       "    <tr>\n",
       "      <th>3</th>\n",
       "      <td>113926</td>\n",
       "      <td>1</td>\n",
       "      <td>6306.0</td>\n",
       "      <td>606</td>\n",
       "      <td>1</td>\n",
       "      <td>0</td>\n",
       "      <td>18</td>\n",
       "      <td>0</td>\n",
       "      <td>0</td>\n",
       "      <td>0</td>\n",
       "      <td>0</td>\n",
       "      <td>0</td>\n",
       "      <td>37836</td>\n",
       "      <td>0</td>\n",
       "      <td>1</td>\n",
       "      <td>300</td>\n",
       "    </tr>\n",
       "    <tr>\n",
       "      <th>4</th>\n",
       "      <td>185438</td>\n",
       "      <td>1</td>\n",
       "      <td>12008.0</td>\n",
       "      <td>498</td>\n",
       "      <td>3</td>\n",
       "      <td>0</td>\n",
       "      <td>14</td>\n",
       "      <td>0</td>\n",
       "      <td>0</td>\n",
       "      <td>1</td>\n",
       "      <td>1</td>\n",
       "      <td>0</td>\n",
       "      <td>72048</td>\n",
       "      <td>0</td>\n",
       "      <td>1</td>\n",
       "      <td>0</td>\n",
       "    </tr>\n",
       "    <tr>\n",
       "      <th>...</th>\n",
       "      <td>...</td>\n",
       "      <td>...</td>\n",
       "      <td>...</td>\n",
       "      <td>...</td>\n",
       "      <td>...</td>\n",
       "      <td>...</td>\n",
       "      <td>...</td>\n",
       "      <td>...</td>\n",
       "      <td>...</td>\n",
       "      <td>...</td>\n",
       "      <td>...</td>\n",
       "      <td>...</td>\n",
       "      <td>...</td>\n",
       "      <td>...</td>\n",
       "      <td>...</td>\n",
       "      <td>...</td>\n",
       "    </tr>\n",
       "    <tr>\n",
       "      <th>192400</th>\n",
       "      <td>132027</td>\n",
       "      <td>3</td>\n",
       "      <td>NaN</td>\n",
       "      <td>1628</td>\n",
       "      <td>2</td>\n",
       "      <td>1</td>\n",
       "      <td>4</td>\n",
       "      <td>0</td>\n",
       "      <td>0</td>\n",
       "      <td>1</td>\n",
       "      <td>1</td>\n",
       "      <td>0</td>\n",
       "      <td>77049</td>\n",
       "      <td>0</td>\n",
       "      <td>0</td>\n",
       "      <td>2900</td>\n",
       "    </tr>\n",
       "    <tr>\n",
       "      <th>192401</th>\n",
       "      <td>86405</td>\n",
       "      <td>1</td>\n",
       "      <td>NaN</td>\n",
       "      <td>729</td>\n",
       "      <td>1</td>\n",
       "      <td>0</td>\n",
       "      <td>3</td>\n",
       "      <td>1</td>\n",
       "      <td>0</td>\n",
       "      <td>0</td>\n",
       "      <td>0</td>\n",
       "      <td>0</td>\n",
       "      <td>29074</td>\n",
       "      <td>1</td>\n",
       "      <td>0</td>\n",
       "      <td>3100</td>\n",
       "    </tr>\n",
       "    <tr>\n",
       "      <th>192402</th>\n",
       "      <td>16233</td>\n",
       "      <td>3</td>\n",
       "      <td>NaN</td>\n",
       "      <td>897</td>\n",
       "      <td>3</td>\n",
       "      <td>1</td>\n",
       "      <td>8</td>\n",
       "      <td>1</td>\n",
       "      <td>1</td>\n",
       "      <td>0</td>\n",
       "      <td>1</td>\n",
       "      <td>1</td>\n",
       "      <td>188088</td>\n",
       "      <td>1</td>\n",
       "      <td>1</td>\n",
       "      <td>1100</td>\n",
       "    </tr>\n",
       "    <tr>\n",
       "      <th>192403</th>\n",
       "      <td>63020</td>\n",
       "      <td>3</td>\n",
       "      <td>NaN</td>\n",
       "      <td>2229</td>\n",
       "      <td>1</td>\n",
       "      <td>0</td>\n",
       "      <td>0</td>\n",
       "      <td>1</td>\n",
       "      <td>1</td>\n",
       "      <td>0</td>\n",
       "      <td>0</td>\n",
       "      <td>0</td>\n",
       "      <td>103938</td>\n",
       "      <td>0</td>\n",
       "      <td>0</td>\n",
       "      <td>1500</td>\n",
       "    </tr>\n",
       "    <tr>\n",
       "      <th>192404</th>\n",
       "      <td>62907</td>\n",
       "      <td>2</td>\n",
       "      <td>NaN</td>\n",
       "      <td>839</td>\n",
       "      <td>3</td>\n",
       "      <td>0</td>\n",
       "      <td>8</td>\n",
       "      <td>1</td>\n",
       "      <td>0</td>\n",
       "      <td>1</td>\n",
       "      <td>1</td>\n",
       "      <td>1</td>\n",
       "      <td>84788</td>\n",
       "      <td>1</td>\n",
       "      <td>1</td>\n",
       "      <td>300</td>\n",
       "    </tr>\n",
       "  </tbody>\n",
       "</table>\n",
       "<p>192405 rows × 16 columns</p>\n",
       "</div>"
      ],
      "text/plain": [
       "        Property_ID  room    price  area  bathroom  parking_spaces  floor  \\\n",
       "0             42208     3  33624.0  1312         2               1      1   \n",
       "1             90879     1   9655.0  1474         2               0     17   \n",
       "2             99943     3  23699.0  1837         2               0     10   \n",
       "3            113926     1   6306.0   606         1               0     18   \n",
       "4            185438     1  12008.0   498         3               0     14   \n",
       "...             ...   ...      ...   ...       ...             ...    ...   \n",
       "192400       132027     3      NaN  1628         2               1      4   \n",
       "192401        86405     1      NaN   729         1               0      3   \n",
       "192402        16233     3      NaN   897         3               1      8   \n",
       "192403        63020     3      NaN  2229         1               0      0   \n",
       "192404        62907     2      NaN   839         3               0      8   \n",
       "\n",
       "        pet_friendly  power_backup  washing_machine  air_conditioner  \\\n",
       "0                  1             0                0                1   \n",
       "1                  0             1                0                0   \n",
       "2                  1             1                1                1   \n",
       "3                  0             0                0                0   \n",
       "4                  0             0                1                1   \n",
       "...              ...           ...              ...              ...   \n",
       "192400             0             0                1                1   \n",
       "192401             1             0                0                0   \n",
       "192402             1             1                0                1   \n",
       "192403             1             1                0                0   \n",
       "192404             1             0                1                1   \n",
       "\n",
       "        geyser/solar  security_deposit  CCTV/security  lift  neighbourhood  \n",
       "0                  0            302616              0     0            300  \n",
       "1                  1             19310              0     1           1600  \n",
       "2                  0            118495              0     1           3100  \n",
       "3                  0             37836              0     1            300  \n",
       "4                  0             72048              0     1              0  \n",
       "...              ...               ...            ...   ...            ...  \n",
       "192400             0             77049              0     0           2900  \n",
       "192401             0             29074              1     0           3100  \n",
       "192402             1            188088              1     1           1100  \n",
       "192403             0            103938              0     0           1500  \n",
       "192404             1             84788              1     1            300  \n",
       "\n",
       "[192405 rows x 16 columns]"
      ]
     },
     "execution_count": 119,
     "metadata": {},
     "output_type": "execute_result"
    }
   ],
   "source": [
    "# num variables\n",
    "combined.select_dtypes(include=np.number)"
   ]
  },
  {
   "cell_type": "code",
   "execution_count": 120,
   "id": "e5004b6e",
   "metadata": {},
   "outputs": [
    {
     "data": {
      "text/plain": [
       "Index(['Property_ID', 'room', 'layout_type', 'property_type', 'locality',\n",
       "       'price', 'area', 'furnish_type', 'bathroom', 'city', 'parking_spaces',\n",
       "       'floor', 'pet_friendly', 'power_backup', 'washing_machine',\n",
       "       'air_conditioner', 'geyser/solar', 'security_deposit', 'CCTV/security',\n",
       "       'lift', 'neighbourhood'],\n",
       "      dtype='object')"
      ]
     },
     "execution_count": 120,
     "metadata": {},
     "output_type": "execute_result"
    }
   ],
   "source": [
    "combined.columns"
   ]
  },
  {
   "cell_type": "code",
   "execution_count": 121,
   "id": "4be62bc7",
   "metadata": {},
   "outputs": [],
   "source": [
    "combined['lift']=combined.lift.astype('object')\n",
    "combined['CCTV/security']=combined['CCTV/security'].astype('object')\n",
    "combined['geyser/solar']=combined['geyser/solar'].astype('object')\n",
    "combined['air_conditioner']=combined['air_conditioner'].astype('object')\n",
    "combined['washing_machine']=combined['washing_machine'].astype('object')\n",
    "combined['power_backup']=combined['power_backup'].astype('object')\n",
    "combined['pet_friendly']=combined['pet_friendly'].astype('object')\n",
    "combined['parking_spaces']=combined['parking_spaces'].astype('object')\n"
   ]
  },
  {
   "cell_type": "code",
   "execution_count": 122,
   "id": "43399628",
   "metadata": {},
   "outputs": [],
   "source": [
    "nums=combined.select_dtypes(include=np.number)"
   ]
  },
  {
   "cell_type": "code",
   "execution_count": 123,
   "id": "810e8a48",
   "metadata": {},
   "outputs": [
    {
     "data": {
      "image/png": "[encoded data removed]",
      "text/plain": [
       "<Figure size 576x396 with 8 Axes>"
      ]
     },
     "metadata": {},
     "output_type": "display_data"
    }
   ],
   "source": [
    "a=4\n",
    "b=2\n",
    "c=1\n",
    "for i in nums.columns:\n",
    "    plt.subplot(a,b,c)\n",
    "    sns.distplot(nums.loc[:,i])\n",
    "    plt.xlabel(i)\n",
    "    c=c+1\n",
    "plt.tight_layout()\n",
    "plt.show()\n"
   ]
  },
  {
   "cell_type": "code",
   "execution_count": null,
   "id": "267eb9a1",
   "metadata": {},
   "outputs": [],
   "source": []
  },
  {
   "cell_type": "code",
   "execution_count": 124,
   "id": "06f53f37",
   "metadata": {},
   "outputs": [],
   "source": [
    "cat=combined.select_dtypes(include='object')"
   ]
  },
  {
   "cell_type": "code",
   "execution_count": 125,
   "id": "154f0cb6",
   "metadata": {},
   "outputs": [
    {
     "data": {
      "text/plain": [
       "Index(['layout_type', 'property_type', 'locality', 'furnish_type', 'city',\n",
       "       'parking_spaces', 'pet_friendly', 'power_backup', 'washing_machine',\n",
       "       'air_conditioner', 'geyser/solar', 'CCTV/security', 'lift'],\n",
       "      dtype='object')"
      ]
     },
     "execution_count": 125,
     "metadata": {},
     "output_type": "execute_result"
    }
   ],
   "source": [
    "cat.columns"
   ]
  },
  {
   "cell_type": "code",
   "execution_count": 126,
   "id": "4d1173fb",
   "metadata": {},
   "outputs": [
    {
     "data": {
      "image/png": "[encoded data removed]",
      "text/plain": [
       "<Figure size 720x720 with 12 Axes>"
      ]
     },
     "metadata": {},
     "output_type": "display_data"
    }
   ],
   "source": [
    "a=4\n",
    "b=4\n",
    "c=1\n",
    "plt.figure(figsize=[10,10])\n",
    "for i in cat.drop(['locality'],axis=1).columns:\n",
    "    plt.subplot(a,b,c)\n",
    "    sns.countplot(cat.loc[:,i])\n",
    "    plt.xlabel(i)\n",
    "    plt.xticks(rotation=90)\n",
    "    c=c+1\n",
    "plt.tight_layout()\n",
    "plt.show()\n"
   ]
  },
  {
   "cell_type": "code",
   "execution_count": 127,
   "id": "cdb9eea4",
   "metadata": {},
   "outputs": [],
   "source": [
    "# most of the houses are\n",
    "# have  lift\n",
    "# have geyser\n",
    "# have ac followed by an washing machine\n",
    "# they are pet friendly houses\n",
    "# they have parking spaces, in mumbai mostly.."
   ]
  },
  {
   "cell_type": "markdown",
   "id": "0528d089",
   "metadata": {},
   "source": [
    "## bivariate aanlysis"
   ]
  },
  {
   "cell_type": "code",
   "execution_count": 128,
   "id": "5ccb9234",
   "metadata": {},
   "outputs": [
    {
     "data": {
      "text/plain": [
       "Index(['Property_ID', 'room', 'price', 'area', 'bathroom', 'floor',\n",
       "       'security_deposit', 'neighbourhood'],\n",
       "      dtype='object')"
      ]
     },
     "execution_count": 128,
     "metadata": {},
     "output_type": "execute_result"
    }
   ],
   "source": [
    "nums.columns"
   ]
  },
  {
   "cell_type": "code",
   "execution_count": 129,
   "id": "2bc78214",
   "metadata": {},
   "outputs": [
    {
     "data": {
      "image/png": "[encoded data removed]",
      "text/plain": [
       "<Figure size 576x396 with 6 Axes>"
      ]
     },
     "metadata": {},
     "output_type": "display_data"
    }
   ],
   "source": [
    "cols=['room','area','bathroom','floor','security_deposit','neighbourhood']\n",
    "a=3\n",
    "b=2\n",
    "c=1\n",
    "for i in cols:\n",
    "    plt.subplot(a,b,c)\n",
    "    sns.scatterplot(combined[i],combined['price'])\n",
    "    plt.xlabel(i)\n",
    "    plt.xticks(rotation=90)\n",
    "    c=c+1\n",
    "plt.tight_layout()\n",
    "plt.show()\n"
   ]
  },
  {
   "cell_type": "code",
   "execution_count": 130,
   "id": "5db695d5",
   "metadata": {},
   "outputs": [
    {
     "data": {
      "text/plain": [
       "<AxesSubplot:>"
      ]
     },
     "execution_count": 130,
     "metadata": {},
     "output_type": "execute_result"
    },
    {
     "data": {
      "image/png": "[encoded data removed]",
      "text/plain": [
       "<Figure size 576x396 with 2 Axes>"
      ]
     },
     "metadata": {},
     "output_type": "display_data"
    }
   ],
   "source": [
    "sns.heatmap(nums.corr(),annot=True)"
   ]
  },
  {
   "cell_type": "code",
   "execution_count": 131,
   "id": "00b22389",
   "metadata": {},
   "outputs": [
    {
     "data": {
      "text/html": [
       "<div>\n",
       "<style scoped>\n",
       "    .dataframe tbody tr th:only-of-type {\n",
       "        vertical-align: middle;\n",
       "    }\n",
       "\n",
       "    .dataframe tbody tr th {\n",
       "        vertical-align: top;\n",
       "    }\n",
       "\n",
       "    .dataframe thead th {\n",
       "        text-align: right;\n",
       "    }\n",
       "</style>\n",
       "<table border=\"1\" class=\"dataframe\">\n",
       "  <thead>\n",
       "    <tr style=\"text-align: right;\">\n",
       "      <th></th>\n",
       "      <th>security_deposit</th>\n",
       "      <th>price</th>\n",
       "    </tr>\n",
       "  </thead>\n",
       "  <tbody>\n",
       "    <tr>\n",
       "      <th>count</th>\n",
       "      <td>1.346830e+05</td>\n",
       "      <td>134683.000000</td>\n",
       "    </tr>\n",
       "    <tr>\n",
       "      <th>mean</th>\n",
       "      <td>2.202480e+05</td>\n",
       "      <td>36690.033894</td>\n",
       "    </tr>\n",
       "    <tr>\n",
       "      <th>std</th>\n",
       "      <td>4.204503e+05</td>\n",
       "      <td>62620.364025</td>\n",
       "    </tr>\n",
       "    <tr>\n",
       "      <th>min</th>\n",
       "      <td>3.180000e+03</td>\n",
       "      <td>1583.000000</td>\n",
       "    </tr>\n",
       "    <tr>\n",
       "      <th>25%</th>\n",
       "      <td>5.580250e+04</td>\n",
       "      <td>12035.500000</td>\n",
       "    </tr>\n",
       "    <tr>\n",
       "      <th>50%</th>\n",
       "      <td>1.142640e+05</td>\n",
       "      <td>20856.000000</td>\n",
       "    </tr>\n",
       "    <tr>\n",
       "      <th>75%</th>\n",
       "      <td>2.207045e+05</td>\n",
       "      <td>36014.000000</td>\n",
       "    </tr>\n",
       "    <tr>\n",
       "      <th>max</th>\n",
       "      <td>7.940780e+06</td>\n",
       "      <td>799325.000000</td>\n",
       "    </tr>\n",
       "  </tbody>\n",
       "</table>\n",
       "</div>"
      ],
      "text/plain": [
       "       security_deposit          price\n",
       "count      1.346830e+05  134683.000000\n",
       "mean       2.202480e+05   36690.033894\n",
       "std        4.204503e+05   62620.364025\n",
       "min        3.180000e+03    1583.000000\n",
       "25%        5.580250e+04   12035.500000\n",
       "50%        1.142640e+05   20856.000000\n",
       "75%        2.207045e+05   36014.000000\n",
       "max        7.940780e+06  799325.000000"
      ]
     },
     "execution_count": 131,
     "metadata": {},
     "output_type": "execute_result"
    }
   ],
   "source": [
    "train.loc[:,['security_deposit','price']].describe()"
   ]
  },
  {
   "cell_type": "code",
   "execution_count": 132,
   "id": "9440525f",
   "metadata": {},
   "outputs": [
    {
     "data": {
      "text/plain": [
       "Index(['layout_type', 'property_type', 'locality', 'furnish_type', 'city',\n",
       "       'parking_spaces', 'pet_friendly', 'power_backup', 'washing_machine',\n",
       "       'air_conditioner', 'geyser/solar', 'CCTV/security', 'lift'],\n",
       "      dtype='object')"
      ]
     },
     "execution_count": 132,
     "metadata": {},
     "output_type": "execute_result"
    }
   ],
   "source": [
    "cat.columns"
   ]
  },
  {
   "cell_type": "code",
   "execution_count": 133,
   "id": "e8254129",
   "metadata": {},
   "outputs": [
    {
     "data": {
      "image/png": "[encoded data removed]",
      "text/plain": [
       "<Figure size 576x396 with 12 Axes>"
      ]
     },
     "metadata": {},
     "output_type": "display_data"
    }
   ],
   "source": [
    "cols=['layout_type', 'property_type', 'furnish_type', 'city',\n",
    "       'parking_spaces', 'pet_friendly', 'power_backup', 'washing_machine',\n",
    "       'air_conditioner', 'geyser/solar', 'CCTV/security', 'lift']\n",
    "a=4\n",
    "b=3\n",
    "c=1\n",
    "for i in cols:\n",
    "    plt.subplot(a,b,c)\n",
    "    sns.boxplot(combined[i],combined['price'])\n",
    "    plt.xlabel(i)\n",
    "    plt.xticks(rotation=90)\n",
    "    c=c+1\n",
    "plt.tight_layout()\n",
    "plt.show()\n"
   ]
  },
  {
   "cell_type": "markdown",
   "id": "f0cfd9a3",
   "metadata": {},
   "source": [
    "featuring engineering"
   ]
  },
  {
   "cell_type": "code",
   "execution_count": 134,
   "id": "7d7ddf31",
   "metadata": {},
   "outputs": [
    {
     "data": {
      "text/html": [
       "<div>\n",
       "<style scoped>\n",
       "    .dataframe tbody tr th:only-of-type {\n",
       "        vertical-align: middle;\n",
       "    }\n",
       "\n",
       "    .dataframe tbody tr th {\n",
       "        vertical-align: top;\n",
       "    }\n",
       "\n",
       "    .dataframe thead th {\n",
       "        text-align: right;\n",
       "    }\n",
       "</style>\n",
       "<table border=\"1\" class=\"dataframe\">\n",
       "  <thead>\n",
       "    <tr style=\"text-align: right;\">\n",
       "      <th></th>\n",
       "      <th>Property_ID</th>\n",
       "      <th>room</th>\n",
       "      <th>layout_type</th>\n",
       "      <th>property_type</th>\n",
       "      <th>locality</th>\n",
       "      <th>price</th>\n",
       "      <th>area</th>\n",
       "      <th>furnish_type</th>\n",
       "      <th>bathroom</th>\n",
       "      <th>city</th>\n",
       "      <th>parking_spaces</th>\n",
       "      <th>floor</th>\n",
       "      <th>pet_friendly</th>\n",
       "      <th>power_backup</th>\n",
       "      <th>washing_machine</th>\n",
       "      <th>air_conditioner</th>\n",
       "      <th>geyser/solar</th>\n",
       "      <th>security_deposit</th>\n",
       "      <th>CCTV/security</th>\n",
       "      <th>lift</th>\n",
       "      <th>neighbourhood</th>\n",
       "    </tr>\n",
       "  </thead>\n",
       "  <tbody>\n",
       "    <tr>\n",
       "      <th>0</th>\n",
       "      <td>42208</td>\n",
       "      <td>3</td>\n",
       "      <td>BHK</td>\n",
       "      <td>Independent House</td>\n",
       "      <td>Palavakkam</td>\n",
       "      <td>33624.0</td>\n",
       "      <td>1312</td>\n",
       "      <td>Furnished</td>\n",
       "      <td>2</td>\n",
       "      <td>Chennai</td>\n",
       "      <td>1</td>\n",
       "      <td>1</td>\n",
       "      <td>1</td>\n",
       "      <td>0</td>\n",
       "      <td>0</td>\n",
       "      <td>1</td>\n",
       "      <td>0</td>\n",
       "      <td>302616</td>\n",
       "      <td>0</td>\n",
       "      <td>0</td>\n",
       "      <td>300</td>\n",
       "    </tr>\n",
       "    <tr>\n",
       "      <th>1</th>\n",
       "      <td>90879</td>\n",
       "      <td>1</td>\n",
       "      <td>BHK</td>\n",
       "      <td>Apartment</td>\n",
       "      <td>Manikonda</td>\n",
       "      <td>9655.0</td>\n",
       "      <td>1474</td>\n",
       "      <td>Unfurnished</td>\n",
       "      <td>2</td>\n",
       "      <td>Hyderabad</td>\n",
       "      <td>0</td>\n",
       "      <td>17</td>\n",
       "      <td>0</td>\n",
       "      <td>1</td>\n",
       "      <td>0</td>\n",
       "      <td>0</td>\n",
       "      <td>1</td>\n",
       "      <td>19310</td>\n",
       "      <td>0</td>\n",
       "      <td>1</td>\n",
       "      <td>1600</td>\n",
       "    </tr>\n",
       "  </tbody>\n",
       "</table>\n",
       "</div>"
      ],
      "text/plain": [
       "   Property_ID  room layout_type      property_type    locality    price  \\\n",
       "0        42208     3         BHK  Independent House  Palavakkam  33624.0   \n",
       "1        90879     1         BHK          Apartment   Manikonda   9655.0   \n",
       "\n",
       "   area furnish_type  bathroom       city parking_spaces  floor pet_friendly  \\\n",
       "0  1312    Furnished         2    Chennai              1      1            1   \n",
       "1  1474  Unfurnished         2  Hyderabad              0     17            0   \n",
       "\n",
       "  power_backup washing_machine air_conditioner geyser/solar  security_deposit  \\\n",
       "0            0               0               1            0            302616   \n",
       "1            1               0               0            1             19310   \n",
       "\n",
       "  CCTV/security lift  neighbourhood  \n",
       "0             0    0            300  \n",
       "1             0    1           1600  "
      ]
     },
     "execution_count": 134,
     "metadata": {},
     "output_type": "execute_result"
    }
   ],
   "source": [
    "combined.head(2)"
   ]
  },
  {
   "cell_type": "code",
   "execution_count": 135,
   "id": "31799cb3",
   "metadata": {},
   "outputs": [
    {
     "data": {
      "text/plain": [
       "array(['Independent House', 'Apartment', 'Studio Apartment',\n",
       "       'Independent Floor', 'Villa', 'Penthouse'], dtype=object)"
      ]
     },
     "execution_count": 135,
     "metadata": {},
     "output_type": "execute_result"
    }
   ],
   "source": [
    "combined.property_type.unique()"
   ]
  },
  {
   "cell_type": "code",
   "execution_count": 136,
   "id": "5f1a26c9",
   "metadata": {},
   "outputs": [],
   "source": [
    "# penthouse~apartment\n",
    "combined.replace(to_replace=['Studio Apartment','Independent Floor'],\n",
    "                 value=['Apartment','Apartment'],inplace=True)"
   ]
  },
  {
   "cell_type": "code",
   "execution_count": 137,
   "id": "dfbaa825",
   "metadata": {},
   "outputs": [],
   "source": [
    "combined.replace(to_replace='Villa',\n",
    "                 value='Independent House',inplace=True)"
   ]
  },
  {
   "cell_type": "code",
   "execution_count": 138,
   "id": "e9725647",
   "metadata": {},
   "outputs": [
    {
     "data": {
      "text/plain": [
       "array(['BHK', 'RK'], dtype=object)"
      ]
     },
     "execution_count": 138,
     "metadata": {},
     "output_type": "execute_result"
    }
   ],
   "source": [
    "combined.layout_type.unique()"
   ]
  },
  {
   "cell_type": "code",
   "execution_count": 139,
   "id": "45ae0f1c",
   "metadata": {},
   "outputs": [
    {
     "data": {
      "text/plain": [
       "array(['Palavakkam', 'Manikonda', 'Jodhpur Park', ...,\n",
       "       'Dhanalakshmi Layout', 'Kalyani Nagar Annexe',\n",
       "       'Neeladri Investment Layout 6th Main Road'], dtype=object)"
      ]
     },
     "execution_count": 139,
     "metadata": {},
     "output_type": "execute_result"
    }
   ],
   "source": [
    "combined.locality.unique()"
   ]
  },
  {
   "cell_type": "code",
   "execution_count": 140,
   "id": "1ad95635",
   "metadata": {},
   "outputs": [
    {
     "data": {
      "text/plain": [
       "array(['Chennai', 'Hyderabad', 'Kolkata', 'Mumbai', 'Pune', 'Delhi',\n",
       "       'Bangalore', 'Ahmedabad'], dtype=object)"
      ]
     },
     "execution_count": 140,
     "metadata": {},
     "output_type": "execute_result"
    }
   ],
   "source": [
    "combined.city.unique()"
   ]
  },
  {
   "cell_type": "code",
   "execution_count": 141,
   "id": "fff3720f",
   "metadata": {},
   "outputs": [],
   "source": [
    "north=['Delhi']\n",
    "west=['Mumbai','Ahmedabad','Pune']\n",
    "south=['Chennai','Hyderabad','Bangalore']"
   ]
  },
  {
   "cell_type": "code",
   "execution_count": 142,
   "id": "ca4f097c",
   "metadata": {},
   "outputs": [],
   "source": [
    "def meracity(x):\n",
    "    if x in north:\n",
    "        return 'north'\n",
    "    if x in south:\n",
    "        return 'south'\n",
    "    if x in west:\n",
    "        return 'west'"
   ]
  },
  {
   "cell_type": "code",
   "execution_count": 143,
   "id": "3bf3e570",
   "metadata": {},
   "outputs": [],
   "source": [
    "combined['Region']=combined['city'].apply(meracity)"
   ]
  },
  {
   "cell_type": "code",
   "execution_count": 144,
   "id": "c5c683f3",
   "metadata": {},
   "outputs": [
    {
     "data": {
      "text/plain": [
       "Index(['Property_ID', 'room', 'layout_type', 'property_type', 'locality',\n",
       "       'price', 'area', 'furnish_type', 'bathroom', 'city', 'parking_spaces',\n",
       "       'floor', 'pet_friendly', 'power_backup', 'washing_machine',\n",
       "       'air_conditioner', 'geyser/solar', 'security_deposit', 'CCTV/security',\n",
       "       'lift', 'neighbourhood', 'Region'],\n",
       "      dtype='object')"
      ]
     },
     "execution_count": 144,
     "metadata": {},
     "output_type": "execute_result"
    }
   ],
   "source": [
    "combined.columns"
   ]
  },
  {
   "cell_type": "code",
   "execution_count": 145,
   "id": "58db4763",
   "metadata": {},
   "outputs": [],
   "source": [
    "new=combined.drop(['Property_ID','locality','city'],axis=1)"
   ]
  },
  {
   "cell_type": "code",
   "execution_count": 146,
   "id": "07201f0d",
   "metadata": {},
   "outputs": [
    {
     "data": {
      "text/html": [
       "<div>\n",
       "<style scoped>\n",
       "    .dataframe tbody tr th:only-of-type {\n",
       "        vertical-align: middle;\n",
       "    }\n",
       "\n",
       "    .dataframe tbody tr th {\n",
       "        vertical-align: top;\n",
       "    }\n",
       "\n",
       "    .dataframe thead th {\n",
       "        text-align: right;\n",
       "    }\n",
       "</style>\n",
       "<table border=\"1\" class=\"dataframe\">\n",
       "  <thead>\n",
       "    <tr style=\"text-align: right;\">\n",
       "      <th></th>\n",
       "      <th>room</th>\n",
       "      <th>layout_type</th>\n",
       "      <th>property_type</th>\n",
       "      <th>price</th>\n",
       "      <th>area</th>\n",
       "      <th>furnish_type</th>\n",
       "      <th>bathroom</th>\n",
       "      <th>parking_spaces</th>\n",
       "      <th>floor</th>\n",
       "      <th>pet_friendly</th>\n",
       "      <th>power_backup</th>\n",
       "      <th>washing_machine</th>\n",
       "      <th>air_conditioner</th>\n",
       "      <th>geyser/solar</th>\n",
       "      <th>security_deposit</th>\n",
       "      <th>CCTV/security</th>\n",
       "      <th>lift</th>\n",
       "      <th>neighbourhood</th>\n",
       "      <th>Region</th>\n",
       "    </tr>\n",
       "  </thead>\n",
       "  <tbody>\n",
       "    <tr>\n",
       "      <th>0</th>\n",
       "      <td>3</td>\n",
       "      <td>BHK</td>\n",
       "      <td>Independent House</td>\n",
       "      <td>33624.0</td>\n",
       "      <td>1312</td>\n",
       "      <td>Furnished</td>\n",
       "      <td>2</td>\n",
       "      <td>1</td>\n",
       "      <td>1</td>\n",
       "      <td>1</td>\n",
       "      <td>0</td>\n",
       "      <td>0</td>\n",
       "      <td>1</td>\n",
       "      <td>0</td>\n",
       "      <td>302616</td>\n",
       "      <td>0</td>\n",
       "      <td>0</td>\n",
       "      <td>300</td>\n",
       "      <td>south</td>\n",
       "    </tr>\n",
       "    <tr>\n",
       "      <th>1</th>\n",
       "      <td>1</td>\n",
       "      <td>BHK</td>\n",
       "      <td>Apartment</td>\n",
       "      <td>9655.0</td>\n",
       "      <td>1474</td>\n",
       "      <td>Unfurnished</td>\n",
       "      <td>2</td>\n",
       "      <td>0</td>\n",
       "      <td>17</td>\n",
       "      <td>0</td>\n",
       "      <td>1</td>\n",
       "      <td>0</td>\n",
       "      <td>0</td>\n",
       "      <td>1</td>\n",
       "      <td>19310</td>\n",
       "      <td>0</td>\n",
       "      <td>1</td>\n",
       "      <td>1600</td>\n",
       "      <td>south</td>\n",
       "    </tr>\n",
       "  </tbody>\n",
       "</table>\n",
       "</div>"
      ],
      "text/plain": [
       "   room layout_type      property_type    price  area furnish_type  bathroom  \\\n",
       "0     3         BHK  Independent House  33624.0  1312    Furnished         2   \n",
       "1     1         BHK          Apartment   9655.0  1474  Unfurnished         2   \n",
       "\n",
       "   parking_spaces  floor  pet_friendly  power_backup  washing_machine  \\\n",
       "0               1      1             1             0                0   \n",
       "1               0     17             0             1                0   \n",
       "\n",
       "   air_conditioner  geyser/solar  security_deposit  CCTV/security  lift  \\\n",
       "0                1             0            302616              0     0   \n",
       "1                0             1             19310              0     1   \n",
       "\n",
       "   neighbourhood Region  \n",
       "0            300  south  \n",
       "1           1600  south  "
      ]
     },
     "execution_count": 146,
     "metadata": {},
     "output_type": "execute_result"
    }
   ],
   "source": [
    "new.head(2)"
   ]
  },
  {
   "cell_type": "code",
   "execution_count": 147,
   "id": "b74b43e6",
   "metadata": {},
   "outputs": [],
   "source": [
    "bhk=train.loc[train.layout_type=='BHK','price']\n",
    "rk=train.loc[train.layout_type=='RK','price']"
   ]
  },
  {
   "cell_type": "code",
   "execution_count": 148,
   "id": "73cef8a7",
   "metadata": {},
   "outputs": [
    {
     "data": {
      "text/plain": [
       "Ttest_indResult(statistic=7.382484143859903, pvalue=1.5625315383553e-13)"
      ]
     },
     "execution_count": 148,
     "metadata": {},
     "output_type": "execute_result"
    }
   ],
   "source": [
    "stats.ttest_ind(bhk,rk)"
   ]
  },
  {
   "cell_type": "code",
   "execution_count": 149,
   "id": "8b770967",
   "metadata": {},
   "outputs": [
    {
     "data": {
      "text/html": [
       "<div>\n",
       "<style scoped>\n",
       "    .dataframe tbody tr th:only-of-type {\n",
       "        vertical-align: middle;\n",
       "    }\n",
       "\n",
       "    .dataframe tbody tr th {\n",
       "        vertical-align: top;\n",
       "    }\n",
       "\n",
       "    .dataframe thead th {\n",
       "        text-align: right;\n",
       "    }\n",
       "</style>\n",
       "<table border=\"1\" class=\"dataframe\">\n",
       "  <thead>\n",
       "    <tr style=\"text-align: right;\">\n",
       "      <th></th>\n",
       "      <th>room</th>\n",
       "      <th>security_deposit</th>\n",
       "    </tr>\n",
       "  </thead>\n",
       "  <tbody>\n",
       "    <tr>\n",
       "      <th>room</th>\n",
       "      <td>1.000000</td>\n",
       "      <td>0.048852</td>\n",
       "    </tr>\n",
       "    <tr>\n",
       "      <th>security_deposit</th>\n",
       "      <td>0.048852</td>\n",
       "      <td>1.000000</td>\n",
       "    </tr>\n",
       "  </tbody>\n",
       "</table>\n",
       "</div>"
      ],
      "text/plain": [
       "                      room  security_deposit\n",
       "room              1.000000          0.048852\n",
       "security_deposit  0.048852          1.000000"
      ]
     },
     "execution_count": 149,
     "metadata": {},
     "output_type": "execute_result"
    }
   ],
   "source": [
    "new[['room','security_deposit']].corr()"
   ]
  },
  {
   "cell_type": "code",
   "execution_count": 150,
   "id": "e5e2b03c",
   "metadata": {},
   "outputs": [
    {
     "data": {
      "text/plain": [
       "array(['Furnished', 'Unfurnished', 'Semi-Furnished'], dtype=object)"
      ]
     },
     "execution_count": 150,
     "metadata": {},
     "output_type": "execute_result"
    }
   ],
   "source": [
    "new.furnish_type.unique()"
   ]
  },
  {
   "cell_type": "code",
   "execution_count": 151,
   "id": "164fe467",
   "metadata": {},
   "outputs": [
    {
     "data": {
      "text/html": [
       "<div>\n",
       "<style scoped>\n",
       "    .dataframe tbody tr th:only-of-type {\n",
       "        vertical-align: middle;\n",
       "    }\n",
       "\n",
       "    .dataframe tbody tr th {\n",
       "        vertical-align: top;\n",
       "    }\n",
       "\n",
       "    .dataframe thead th {\n",
       "        text-align: right;\n",
       "    }\n",
       "</style>\n",
       "<table border=\"1\" class=\"dataframe\">\n",
       "  <thead>\n",
       "    <tr style=\"text-align: right;\">\n",
       "      <th></th>\n",
       "      <th></th>\n",
       "      <th>furnish_type</th>\n",
       "    </tr>\n",
       "    <tr>\n",
       "      <th>property_type</th>\n",
       "      <th>furnish_type</th>\n",
       "      <th></th>\n",
       "    </tr>\n",
       "  </thead>\n",
       "  <tbody>\n",
       "    <tr>\n",
       "      <th rowspan=\"3\" valign=\"top\">Apartment</th>\n",
       "      <th>Semi-Furnished</th>\n",
       "      <td>80980</td>\n",
       "    </tr>\n",
       "    <tr>\n",
       "      <th>Unfurnished</th>\n",
       "      <td>50819</td>\n",
       "    </tr>\n",
       "    <tr>\n",
       "      <th>Furnished</th>\n",
       "      <td>37324</td>\n",
       "    </tr>\n",
       "    <tr>\n",
       "      <th rowspan=\"3\" valign=\"top\">Independent House</th>\n",
       "      <th>Semi-Furnished</th>\n",
       "      <td>9641</td>\n",
       "    </tr>\n",
       "    <tr>\n",
       "      <th>Unfurnished</th>\n",
       "      <td>8011</td>\n",
       "    </tr>\n",
       "    <tr>\n",
       "      <th>Furnished</th>\n",
       "      <td>4922</td>\n",
       "    </tr>\n",
       "    <tr>\n",
       "      <th rowspan=\"3\" valign=\"top\">Penthouse</th>\n",
       "      <th>Semi-Furnished</th>\n",
       "      <td>303</td>\n",
       "    </tr>\n",
       "    <tr>\n",
       "      <th>Unfurnished</th>\n",
       "      <td>257</td>\n",
       "    </tr>\n",
       "    <tr>\n",
       "      <th>Furnished</th>\n",
       "      <td>148</td>\n",
       "    </tr>\n",
       "  </tbody>\n",
       "</table>\n",
       "</div>"
      ],
      "text/plain": [
       "                                  furnish_type\n",
       "property_type     furnish_type                \n",
       "Apartment         Semi-Furnished         80980\n",
       "                  Unfurnished            50819\n",
       "                  Furnished              37324\n",
       "Independent House Semi-Furnished          9641\n",
       "                  Unfurnished             8011\n",
       "                  Furnished               4922\n",
       "Penthouse         Semi-Furnished           303\n",
       "                  Unfurnished              257\n",
       "                  Furnished                148"
      ]
     },
     "execution_count": 151,
     "metadata": {},
     "output_type": "execute_result"
    }
   ],
   "source": [
    "DataFrame(new.groupby('property_type')['furnish_type'].value_counts().T)"
   ]
  },
  {
   "cell_type": "code",
   "execution_count": 152,
   "id": "34294d05",
   "metadata": {},
   "outputs": [],
   "source": [
    "new=new.drop(['room','floor'],axis=1)"
   ]
  },
  {
   "cell_type": "code",
   "execution_count": 153,
   "id": "8eee586e",
   "metadata": {},
   "outputs": [
    {
     "data": {
      "text/plain": [
       "Index(['layout_type', 'property_type', 'price', 'area', 'furnish_type',\n",
       "       'bathroom', 'parking_spaces', 'pet_friendly', 'power_backup',\n",
       "       'washing_machine', 'air_conditioner', 'geyser/solar',\n",
       "       'security_deposit', 'CCTV/security', 'lift', 'neighbourhood', 'Region'],\n",
       "      dtype='object')"
      ]
     },
     "execution_count": 153,
     "metadata": {},
     "output_type": "execute_result"
    }
   ],
   "source": [
    "new.columns"
   ]
  },
  {
   "cell_type": "code",
   "execution_count": 154,
   "id": "dec912c3",
   "metadata": {},
   "outputs": [
    {
     "data": {
      "text/plain": [
       "(192405, 17)"
      ]
     },
     "execution_count": 154,
     "metadata": {},
     "output_type": "execute_result"
    }
   ],
   "source": [
    "new.shape"
   ]
  },
  {
   "cell_type": "code",
   "execution_count": 155,
   "id": "64c156af",
   "metadata": {},
   "outputs": [
    {
     "data": {
      "text/plain": [
       "(192405, 20)"
      ]
     },
     "execution_count": 155,
     "metadata": {},
     "output_type": "execute_result"
    }
   ],
   "source": [
    "pd.get_dummies(new,drop_first=True).shape"
   ]
  },
  {
   "cell_type": "code",
   "execution_count": 156,
   "id": "2c7f642c",
   "metadata": {},
   "outputs": [
    {
     "data": {
      "text/plain": [
       "Index(['layout_type', 'property_type', 'price', 'area', 'furnish_type',\n",
       "       'bathroom', 'parking_spaces', 'pet_friendly', 'power_backup',\n",
       "       'washing_machine', 'air_conditioner', 'geyser/solar',\n",
       "       'security_deposit', 'CCTV/security', 'lift', 'neighbourhood', 'Region'],\n",
       "      dtype='object')"
      ]
     },
     "execution_count": 156,
     "metadata": {},
     "output_type": "execute_result"
    }
   ],
   "source": [
    "new.columns"
   ]
  },
  {
   "cell_type": "code",
   "execution_count": 157,
   "id": "37404091",
   "metadata": {},
   "outputs": [],
   "source": [
    "cols=['price', 'area','security_deposit','neighbourhood']\n",
    "df=train.loc[:,cols]"
   ]
  },
  {
   "cell_type": "code",
   "execution_count": 158,
   "id": "4fbb5102",
   "metadata": {},
   "outputs": [
    {
     "data": {
      "text/html": [
       "<div>\n",
       "<style scoped>\n",
       "    .dataframe tbody tr th:only-of-type {\n",
       "        vertical-align: middle;\n",
       "    }\n",
       "\n",
       "    .dataframe tbody tr th {\n",
       "        vertical-align: top;\n",
       "    }\n",
       "\n",
       "    .dataframe thead th {\n",
       "        text-align: right;\n",
       "    }\n",
       "</style>\n",
       "<table border=\"1\" class=\"dataframe\">\n",
       "  <thead>\n",
       "    <tr style=\"text-align: right;\">\n",
       "      <th></th>\n",
       "      <th>price</th>\n",
       "      <th>area</th>\n",
       "      <th>security_deposit</th>\n",
       "      <th>neighbourhood</th>\n",
       "    </tr>\n",
       "  </thead>\n",
       "  <tbody>\n",
       "    <tr>\n",
       "      <th>0</th>\n",
       "      <td>33624</td>\n",
       "      <td>1312</td>\n",
       "      <td>302616</td>\n",
       "      <td>300</td>\n",
       "    </tr>\n",
       "    <tr>\n",
       "      <th>1</th>\n",
       "      <td>9655</td>\n",
       "      <td>1474</td>\n",
       "      <td>19310</td>\n",
       "      <td>1600</td>\n",
       "    </tr>\n",
       "    <tr>\n",
       "      <th>2</th>\n",
       "      <td>23699</td>\n",
       "      <td>1837</td>\n",
       "      <td>118495</td>\n",
       "      <td>3100</td>\n",
       "    </tr>\n",
       "    <tr>\n",
       "      <th>3</th>\n",
       "      <td>6306</td>\n",
       "      <td>606</td>\n",
       "      <td>37836</td>\n",
       "      <td>300</td>\n",
       "    </tr>\n",
       "    <tr>\n",
       "      <th>4</th>\n",
       "      <td>12008</td>\n",
       "      <td>498</td>\n",
       "      <td>72048</td>\n",
       "      <td>0</td>\n",
       "    </tr>\n",
       "    <tr>\n",
       "      <th>...</th>\n",
       "      <td>...</td>\n",
       "      <td>...</td>\n",
       "      <td>...</td>\n",
       "      <td>...</td>\n",
       "    </tr>\n",
       "    <tr>\n",
       "      <th>134678</th>\n",
       "      <td>222987</td>\n",
       "      <td>641</td>\n",
       "      <td>1783896</td>\n",
       "      <td>3900</td>\n",
       "    </tr>\n",
       "    <tr>\n",
       "      <th>134679</th>\n",
       "      <td>6958</td>\n",
       "      <td>619</td>\n",
       "      <td>62622</td>\n",
       "      <td>1200</td>\n",
       "    </tr>\n",
       "    <tr>\n",
       "      <th>134680</th>\n",
       "      <td>85812</td>\n",
       "      <td>2279</td>\n",
       "      <td>429060</td>\n",
       "      <td>3900</td>\n",
       "    </tr>\n",
       "    <tr>\n",
       "      <th>134681</th>\n",
       "      <td>15919</td>\n",
       "      <td>1314</td>\n",
       "      <td>79595</td>\n",
       "      <td>2300</td>\n",
       "    </tr>\n",
       "    <tr>\n",
       "      <th>134682</th>\n",
       "      <td>37021</td>\n",
       "      <td>798</td>\n",
       "      <td>74042</td>\n",
       "      <td>3600</td>\n",
       "    </tr>\n",
       "  </tbody>\n",
       "</table>\n",
       "<p>134683 rows × 4 columns</p>\n",
       "</div>"
      ],
      "text/plain": [
       "         price  area  security_deposit  neighbourhood\n",
       "0        33624  1312            302616            300\n",
       "1         9655  1474             19310           1600\n",
       "2        23699  1837            118495           3100\n",
       "3         6306   606             37836            300\n",
       "4        12008   498             72048              0\n",
       "...        ...   ...               ...            ...\n",
       "134678  222987   641           1783896           3900\n",
       "134679    6958   619             62622           1200\n",
       "134680   85812  2279            429060           3900\n",
       "134681   15919  1314             79595           2300\n",
       "134682   37021   798             74042           3600\n",
       "\n",
       "[134683 rows x 4 columns]"
      ]
     },
     "execution_count": 158,
     "metadata": {},
     "output_type": "execute_result"
    }
   ],
   "source": [
    "df"
   ]
  },
  {
   "cell_type": "code",
   "execution_count": 159,
   "id": "1972821e",
   "metadata": {},
   "outputs": [],
   "source": [
    "from sklearn.cluster import KMeans,DBSCAN\n",
    "from scipy.cluster.hierarchy import linkage,dendrogram\n",
    "from yellowbrick.cluster import KElbowVisualizer"
   ]
  },
  {
   "cell_type": "code",
   "execution_count": 160,
   "id": "0f29d2cf",
   "metadata": {},
   "outputs": [],
   "source": [
    "model=KMeans(random_state=1)\n",
    "visuals=KElbowVisualizer(estimator=model,k=(2,10))"
   ]
  },
  {
   "cell_type": "code",
   "execution_count": 161,
   "id": "d0f38f45",
   "metadata": {},
   "outputs": [
    {
     "data": {
      "image/png": "[encoded data removed]",
      "text/plain": [
       "<Figure size 576x396 with 2 Axes>"
      ]
     },
     "metadata": {},
     "output_type": "display_data"
    },
    {
     "data": {
      "text/plain": [
       "<AxesSubplot:title={'center':'Distortion Score Elbow for KMeans Clustering'}, xlabel='k', ylabel='distortion score'>"
      ]
     },
     "execution_count": 161,
     "metadata": {},
     "output_type": "execute_result"
    }
   ],
   "source": [
    "visuals.fit(df)\n",
    "visuals.show()"
   ]
  },
  {
   "cell_type": "code",
   "execution_count": 162,
   "id": "a4276b37",
   "metadata": {},
   "outputs": [],
   "source": [
    "sc=StandardScaler()\n",
    "scaled=sc.fit_transform(df)"
   ]
  },
  {
   "cell_type": "code",
   "execution_count": 163,
   "id": "cd6a971d",
   "metadata": {},
   "outputs": [],
   "source": [
    "# dbscan\n",
    "from sklearn.neighbors import NearestNeighbors\n",
    "n=NearestNeighbors()\n",
    "model=n.fit(df)\n",
    "distance,index=model.kneighbors(df)"
   ]
  },
  {
   "cell_type": "code",
   "execution_count": 164,
   "id": "4a9dc5ad",
   "metadata": {},
   "outputs": [
    {
     "data": {
      "text/plain": [
       "[<matplotlib.lines.Line2D at 0x1fb5b1adf40>,\n",
       " <matplotlib.lines.Line2D at 0x1fb5b1adf70>,\n",
       " <matplotlib.lines.Line2D at 0x1fb5b1950d0>,\n",
       " <matplotlib.lines.Line2D at 0x1fb5b1951f0>,\n",
       " <matplotlib.lines.Line2D at 0x1fb5b195310>]"
      ]
     },
     "execution_count": 164,
     "metadata": {},
     "output_type": "execute_result"
    },
    {
     "data": {
      "image/png": "[encoded data removed]",
      "text/plain": [
       "<Figure size 576x396 with 1 Axes>"
      ]
     },
     "metadata": {},
     "output_type": "display_data"
    }
   ],
   "source": [
    "plt.plot(np.sort(distance,axis=0))"
   ]
  },
  {
   "cell_type": "code",
   "execution_count": 165,
   "id": "67a1d6fd",
   "metadata": {},
   "outputs": [
    {
     "ename": "MemoryError",
     "evalue": "",
     "output_type": "error",
     "traceback": [
      "\u001b[1;31m---------------------------------------------------------------------------\u001b[0m",
      "\u001b[1;31mMemoryError\u001b[0m                               Traceback (most recent call last)",
      "\u001b[1;32mC:\\Users\\RISHAV~1\\AppData\\Local\\Temp/ipykernel_12972/269590096.py\u001b[0m in \u001b[0;36m<module>\u001b[1;34m\u001b[0m\n\u001b[0;32m      1\u001b[0m \u001b[0mdbscan\u001b[0m\u001b[1;33m=\u001b[0m\u001b[0mDBSCAN\u001b[0m\u001b[1;33m(\u001b[0m\u001b[0meps\u001b[0m\u001b[1;33m=\u001b[0m\u001b[1;36m1\u001b[0m\u001b[1;33m,\u001b[0m\u001b[0mmin_samples\u001b[0m\u001b[1;33m=\u001b[0m\u001b[0mlen\u001b[0m\u001b[1;33m(\u001b[0m\u001b[0mdf\u001b[0m\u001b[1;33m.\u001b[0m\u001b[0mcolumns\u001b[0m\u001b[1;33m)\u001b[0m\u001b[1;33m+\u001b[0m\u001b[1;36m1\u001b[0m\u001b[1;33m)\u001b[0m\u001b[1;33m\u001b[0m\u001b[1;33m\u001b[0m\u001b[0m\n\u001b[1;32m----> 2\u001b[1;33m \u001b[0mdbscan\u001b[0m\u001b[1;33m.\u001b[0m\u001b[0mfit\u001b[0m\u001b[1;33m(\u001b[0m\u001b[0mscaled\u001b[0m\u001b[1;33m)\u001b[0m\u001b[1;33m\u001b[0m\u001b[1;33m\u001b[0m\u001b[0m\n\u001b[0m",
      "\u001b[1;32mC:\\anaconda\\lib\\site-packages\\sklearn\\cluster\\_dbscan.py\u001b[0m in \u001b[0;36mfit\u001b[1;34m(self, X, y, sample_weight)\u001b[0m\n\u001b[0;32m    404\u001b[0m         \u001b[0mneighbors_model\u001b[0m\u001b[1;33m.\u001b[0m\u001b[0mfit\u001b[0m\u001b[1;33m(\u001b[0m\u001b[0mX\u001b[0m\u001b[1;33m)\u001b[0m\u001b[1;33m\u001b[0m\u001b[1;33m\u001b[0m\u001b[0m\n\u001b[0;32m    405\u001b[0m         \u001b[1;31m# This has worst case O(n^2) memory complexity\u001b[0m\u001b[1;33m\u001b[0m\u001b[1;33m\u001b[0m\u001b[0m\n\u001b[1;32m--> 406\u001b[1;33m         \u001b[0mneighborhoods\u001b[0m \u001b[1;33m=\u001b[0m \u001b[0mneighbors_model\u001b[0m\u001b[1;33m.\u001b[0m\u001b[0mradius_neighbors\u001b[0m\u001b[1;33m(\u001b[0m\u001b[0mX\u001b[0m\u001b[1;33m,\u001b[0m \u001b[0mreturn_distance\u001b[0m\u001b[1;33m=\u001b[0m\u001b[1;32mFalse\u001b[0m\u001b[1;33m)\u001b[0m\u001b[1;33m\u001b[0m\u001b[1;33m\u001b[0m\u001b[0m\n\u001b[0m\u001b[0;32m    407\u001b[0m \u001b[1;33m\u001b[0m\u001b[0m\n\u001b[0;32m    408\u001b[0m         \u001b[1;32mif\u001b[0m \u001b[0msample_weight\u001b[0m \u001b[1;32mis\u001b[0m \u001b[1;32mNone\u001b[0m\u001b[1;33m:\u001b[0m\u001b[1;33m\u001b[0m\u001b[1;33m\u001b[0m\u001b[0m\n",
      "\u001b[1;32mC:\\anaconda\\lib\\site-packages\\sklearn\\neighbors\\_base.py\u001b[0m in \u001b[0;36mradius_neighbors\u001b[1;34m(self, X, radius, return_distance, sort_results)\u001b[0m\n\u001b[0;32m   1167\u001b[0m             \u001b[0mn_jobs\u001b[0m \u001b[1;33m=\u001b[0m \u001b[0meffective_n_jobs\u001b[0m\u001b[1;33m(\u001b[0m\u001b[0mself\u001b[0m\u001b[1;33m.\u001b[0m\u001b[0mn_jobs\u001b[0m\u001b[1;33m)\u001b[0m\u001b[1;33m\u001b[0m\u001b[1;33m\u001b[0m\u001b[0m\n\u001b[0;32m   1168\u001b[0m             \u001b[0mdelayed_query\u001b[0m \u001b[1;33m=\u001b[0m \u001b[0mdelayed\u001b[0m\u001b[1;33m(\u001b[0m\u001b[0m_tree_query_radius_parallel_helper\u001b[0m\u001b[1;33m)\u001b[0m\u001b[1;33m\u001b[0m\u001b[1;33m\u001b[0m\u001b[0m\n\u001b[1;32m-> 1169\u001b[1;33m             chunked_results = Parallel(n_jobs, prefer=\"threads\")(\n\u001b[0m\u001b[0;32m   1170\u001b[0m                 delayed_query(\n\u001b[0;32m   1171\u001b[0m                     \u001b[0mself\u001b[0m\u001b[1;33m.\u001b[0m\u001b[0m_tree\u001b[0m\u001b[1;33m,\u001b[0m \u001b[0mX\u001b[0m\u001b[1;33m[\u001b[0m\u001b[0ms\u001b[0m\u001b[1;33m]\u001b[0m\u001b[1;33m,\u001b[0m \u001b[0mradius\u001b[0m\u001b[1;33m,\u001b[0m \u001b[0mreturn_distance\u001b[0m\u001b[1;33m,\u001b[0m \u001b[0msort_results\u001b[0m\u001b[1;33m=\u001b[0m\u001b[0msort_results\u001b[0m\u001b[1;33m\u001b[0m\u001b[1;33m\u001b[0m\u001b[0m\n",
      "\u001b[1;32mC:\\anaconda\\lib\\site-packages\\joblib\\parallel.py\u001b[0m in \u001b[0;36m__call__\u001b[1;34m(self, iterable)\u001b[0m\n\u001b[0;32m   1041\u001b[0m             \u001b[1;31m# remaining jobs.\u001b[0m\u001b[1;33m\u001b[0m\u001b[1;33m\u001b[0m\u001b[0m\n\u001b[0;32m   1042\u001b[0m             \u001b[0mself\u001b[0m\u001b[1;33m.\u001b[0m\u001b[0m_iterating\u001b[0m \u001b[1;33m=\u001b[0m \u001b[1;32mFalse\u001b[0m\u001b[1;33m\u001b[0m\u001b[1;33m\u001b[0m\u001b[0m\n\u001b[1;32m-> 1043\u001b[1;33m             \u001b[1;32mif\u001b[0m \u001b[0mself\u001b[0m\u001b[1;33m.\u001b[0m\u001b[0mdispatch_one_batch\u001b[0m\u001b[1;33m(\u001b[0m\u001b[0miterator\u001b[0m\u001b[1;33m)\u001b[0m\u001b[1;33m:\u001b[0m\u001b[1;33m\u001b[0m\u001b[1;33m\u001b[0m\u001b[0m\n\u001b[0m\u001b[0;32m   1044\u001b[0m                 \u001b[0mself\u001b[0m\u001b[1;33m.\u001b[0m\u001b[0m_iterating\u001b[0m \u001b[1;33m=\u001b[0m \u001b[0mself\u001b[0m\u001b[1;33m.\u001b[0m\u001b[0m_original_iterator\u001b[0m \u001b[1;32mis\u001b[0m \u001b[1;32mnot\u001b[0m \u001b[1;32mNone\u001b[0m\u001b[1;33m\u001b[0m\u001b[1;33m\u001b[0m\u001b[0m\n\u001b[0;32m   1045\u001b[0m \u001b[1;33m\u001b[0m\u001b[0m\n",
      "\u001b[1;32mC:\\anaconda\\lib\\site-packages\\joblib\\parallel.py\u001b[0m in \u001b[0;36mdispatch_one_batch\u001b[1;34m(self, iterator)\u001b[0m\n\u001b[0;32m    859\u001b[0m                 \u001b[1;32mreturn\u001b[0m \u001b[1;32mFalse\u001b[0m\u001b[1;33m\u001b[0m\u001b[1;33m\u001b[0m\u001b[0m\n\u001b[0;32m    860\u001b[0m             \u001b[1;32melse\u001b[0m\u001b[1;33m:\u001b[0m\u001b[1;33m\u001b[0m\u001b[1;33m\u001b[0m\u001b[0m\n\u001b[1;32m--> 861\u001b[1;33m                 \u001b[0mself\u001b[0m\u001b[1;33m.\u001b[0m\u001b[0m_dispatch\u001b[0m\u001b[1;33m(\u001b[0m\u001b[0mtasks\u001b[0m\u001b[1;33m)\u001b[0m\u001b[1;33m\u001b[0m\u001b[1;33m\u001b[0m\u001b[0m\n\u001b[0m\u001b[0;32m    862\u001b[0m                 \u001b[1;32mreturn\u001b[0m \u001b[1;32mTrue\u001b[0m\u001b[1;33m\u001b[0m\u001b[1;33m\u001b[0m\u001b[0m\n\u001b[0;32m    863\u001b[0m \u001b[1;33m\u001b[0m\u001b[0m\n",
      "\u001b[1;32mC:\\anaconda\\lib\\site-packages\\joblib\\parallel.py\u001b[0m in \u001b[0;36m_dispatch\u001b[1;34m(self, batch)\u001b[0m\n\u001b[0;32m    777\u001b[0m         \u001b[1;32mwith\u001b[0m \u001b[0mself\u001b[0m\u001b[1;33m.\u001b[0m\u001b[0m_lock\u001b[0m\u001b[1;33m:\u001b[0m\u001b[1;33m\u001b[0m\u001b[1;33m\u001b[0m\u001b[0m\n\u001b[0;32m    778\u001b[0m             \u001b[0mjob_idx\u001b[0m \u001b[1;33m=\u001b[0m \u001b[0mlen\u001b[0m\u001b[1;33m(\u001b[0m\u001b[0mself\u001b[0m\u001b[1;33m.\u001b[0m\u001b[0m_jobs\u001b[0m\u001b[1;33m)\u001b[0m\u001b[1;33m\u001b[0m\u001b[1;33m\u001b[0m\u001b[0m\n\u001b[1;32m--> 779\u001b[1;33m             \u001b[0mjob\u001b[0m \u001b[1;33m=\u001b[0m \u001b[0mself\u001b[0m\u001b[1;33m.\u001b[0m\u001b[0m_backend\u001b[0m\u001b[1;33m.\u001b[0m\u001b[0mapply_async\u001b[0m\u001b[1;33m(\u001b[0m\u001b[0mbatch\u001b[0m\u001b[1;33m,\u001b[0m \u001b[0mcallback\u001b[0m\u001b[1;33m=\u001b[0m\u001b[0mcb\u001b[0m\u001b[1;33m)\u001b[0m\u001b[1;33m\u001b[0m\u001b[1;33m\u001b[0m\u001b[0m\n\u001b[0m\u001b[0;32m    780\u001b[0m             \u001b[1;31m# A job can complete so quickly than its callback is\u001b[0m\u001b[1;33m\u001b[0m\u001b[1;33m\u001b[0m\u001b[0m\n\u001b[0;32m    781\u001b[0m             \u001b[1;31m# called before we get here, causing self._jobs to\u001b[0m\u001b[1;33m\u001b[0m\u001b[1;33m\u001b[0m\u001b[0m\n",
      "\u001b[1;32mC:\\anaconda\\lib\\site-packages\\joblib\\_parallel_backends.py\u001b[0m in \u001b[0;36mapply_async\u001b[1;34m(self, func, callback)\u001b[0m\n\u001b[0;32m    206\u001b[0m     \u001b[1;32mdef\u001b[0m \u001b[0mapply_async\u001b[0m\u001b[1;33m(\u001b[0m\u001b[0mself\u001b[0m\u001b[1;33m,\u001b[0m \u001b[0mfunc\u001b[0m\u001b[1;33m,\u001b[0m \u001b[0mcallback\u001b[0m\u001b[1;33m=\u001b[0m\u001b[1;32mNone\u001b[0m\u001b[1;33m)\u001b[0m\u001b[1;33m:\u001b[0m\u001b[1;33m\u001b[0m\u001b[1;33m\u001b[0m\u001b[0m\n\u001b[0;32m    207\u001b[0m         \u001b[1;34m\"\"\"Schedule a func to be run\"\"\"\u001b[0m\u001b[1;33m\u001b[0m\u001b[1;33m\u001b[0m\u001b[0m\n\u001b[1;32m--> 208\u001b[1;33m         \u001b[0mresult\u001b[0m \u001b[1;33m=\u001b[0m \u001b[0mImmediateResult\u001b[0m\u001b[1;33m(\u001b[0m\u001b[0mfunc\u001b[0m\u001b[1;33m)\u001b[0m\u001b[1;33m\u001b[0m\u001b[1;33m\u001b[0m\u001b[0m\n\u001b[0m\u001b[0;32m    209\u001b[0m         \u001b[1;32mif\u001b[0m \u001b[0mcallback\u001b[0m\u001b[1;33m:\u001b[0m\u001b[1;33m\u001b[0m\u001b[1;33m\u001b[0m\u001b[0m\n\u001b[0;32m    210\u001b[0m             \u001b[0mcallback\u001b[0m\u001b[1;33m(\u001b[0m\u001b[0mresult\u001b[0m\u001b[1;33m)\u001b[0m\u001b[1;33m\u001b[0m\u001b[1;33m\u001b[0m\u001b[0m\n",
      "\u001b[1;32mC:\\anaconda\\lib\\site-packages\\joblib\\_parallel_backends.py\u001b[0m in \u001b[0;36m__init__\u001b[1;34m(self, batch)\u001b[0m\n\u001b[0;32m    570\u001b[0m         \u001b[1;31m# Don't delay the application, to avoid keeping the input\u001b[0m\u001b[1;33m\u001b[0m\u001b[1;33m\u001b[0m\u001b[0m\n\u001b[0;32m    571\u001b[0m         \u001b[1;31m# arguments in memory\u001b[0m\u001b[1;33m\u001b[0m\u001b[1;33m\u001b[0m\u001b[0m\n\u001b[1;32m--> 572\u001b[1;33m         \u001b[0mself\u001b[0m\u001b[1;33m.\u001b[0m\u001b[0mresults\u001b[0m \u001b[1;33m=\u001b[0m \u001b[0mbatch\u001b[0m\u001b[1;33m(\u001b[0m\u001b[1;33m)\u001b[0m\u001b[1;33m\u001b[0m\u001b[1;33m\u001b[0m\u001b[0m\n\u001b[0m\u001b[0;32m    573\u001b[0m \u001b[1;33m\u001b[0m\u001b[0m\n\u001b[0;32m    574\u001b[0m     \u001b[1;32mdef\u001b[0m \u001b[0mget\u001b[0m\u001b[1;33m(\u001b[0m\u001b[0mself\u001b[0m\u001b[1;33m)\u001b[0m\u001b[1;33m:\u001b[0m\u001b[1;33m\u001b[0m\u001b[1;33m\u001b[0m\u001b[0m\n",
      "\u001b[1;32mC:\\anaconda\\lib\\site-packages\\joblib\\parallel.py\u001b[0m in \u001b[0;36m__call__\u001b[1;34m(self)\u001b[0m\n\u001b[0;32m    260\u001b[0m         \u001b[1;31m# change the default number of processes to -1\u001b[0m\u001b[1;33m\u001b[0m\u001b[1;33m\u001b[0m\u001b[0m\n\u001b[0;32m    261\u001b[0m         \u001b[1;32mwith\u001b[0m \u001b[0mparallel_backend\u001b[0m\u001b[1;33m(\u001b[0m\u001b[0mself\u001b[0m\u001b[1;33m.\u001b[0m\u001b[0m_backend\u001b[0m\u001b[1;33m,\u001b[0m \u001b[0mn_jobs\u001b[0m\u001b[1;33m=\u001b[0m\u001b[0mself\u001b[0m\u001b[1;33m.\u001b[0m\u001b[0m_n_jobs\u001b[0m\u001b[1;33m)\u001b[0m\u001b[1;33m:\u001b[0m\u001b[1;33m\u001b[0m\u001b[1;33m\u001b[0m\u001b[0m\n\u001b[1;32m--> 262\u001b[1;33m             return [func(*args, **kwargs)\n\u001b[0m\u001b[0;32m    263\u001b[0m                     for func, args, kwargs in self.items]\n\u001b[0;32m    264\u001b[0m \u001b[1;33m\u001b[0m\u001b[0m\n",
      "\u001b[1;32mC:\\anaconda\\lib\\site-packages\\joblib\\parallel.py\u001b[0m in \u001b[0;36m<listcomp>\u001b[1;34m(.0)\u001b[0m\n\u001b[0;32m    260\u001b[0m         \u001b[1;31m# change the default number of processes to -1\u001b[0m\u001b[1;33m\u001b[0m\u001b[1;33m\u001b[0m\u001b[0m\n\u001b[0;32m    261\u001b[0m         \u001b[1;32mwith\u001b[0m \u001b[0mparallel_backend\u001b[0m\u001b[1;33m(\u001b[0m\u001b[0mself\u001b[0m\u001b[1;33m.\u001b[0m\u001b[0m_backend\u001b[0m\u001b[1;33m,\u001b[0m \u001b[0mn_jobs\u001b[0m\u001b[1;33m=\u001b[0m\u001b[0mself\u001b[0m\u001b[1;33m.\u001b[0m\u001b[0m_n_jobs\u001b[0m\u001b[1;33m)\u001b[0m\u001b[1;33m:\u001b[0m\u001b[1;33m\u001b[0m\u001b[1;33m\u001b[0m\u001b[0m\n\u001b[1;32m--> 262\u001b[1;33m             return [func(*args, **kwargs)\n\u001b[0m\u001b[0;32m    263\u001b[0m                     for func, args, kwargs in self.items]\n\u001b[0;32m    264\u001b[0m \u001b[1;33m\u001b[0m\u001b[0m\n",
      "\u001b[1;32mC:\\anaconda\\lib\\site-packages\\sklearn\\utils\\fixes.py\u001b[0m in \u001b[0;36m__call__\u001b[1;34m(self, *args, **kwargs)\u001b[0m\n\u001b[0;32m    115\u001b[0m     \u001b[1;32mdef\u001b[0m \u001b[0m__call__\u001b[0m\u001b[1;33m(\u001b[0m\u001b[0mself\u001b[0m\u001b[1;33m,\u001b[0m \u001b[1;33m*\u001b[0m\u001b[0margs\u001b[0m\u001b[1;33m,\u001b[0m \u001b[1;33m**\u001b[0m\u001b[0mkwargs\u001b[0m\u001b[1;33m)\u001b[0m\u001b[1;33m:\u001b[0m\u001b[1;33m\u001b[0m\u001b[1;33m\u001b[0m\u001b[0m\n\u001b[0;32m    116\u001b[0m         \u001b[1;32mwith\u001b[0m \u001b[0mconfig_context\u001b[0m\u001b[1;33m(\u001b[0m\u001b[1;33m**\u001b[0m\u001b[0mself\u001b[0m\u001b[1;33m.\u001b[0m\u001b[0mconfig\u001b[0m\u001b[1;33m)\u001b[0m\u001b[1;33m:\u001b[0m\u001b[1;33m\u001b[0m\u001b[1;33m\u001b[0m\u001b[0m\n\u001b[1;32m--> 117\u001b[1;33m             \u001b[1;32mreturn\u001b[0m \u001b[0mself\u001b[0m\u001b[1;33m.\u001b[0m\u001b[0mfunction\u001b[0m\u001b[1;33m(\u001b[0m\u001b[1;33m*\u001b[0m\u001b[0margs\u001b[0m\u001b[1;33m,\u001b[0m \u001b[1;33m**\u001b[0m\u001b[0mkwargs\u001b[0m\u001b[1;33m)\u001b[0m\u001b[1;33m\u001b[0m\u001b[1;33m\u001b[0m\u001b[0m\n\u001b[0m\u001b[0;32m    118\u001b[0m \u001b[1;33m\u001b[0m\u001b[0m\n\u001b[0;32m    119\u001b[0m \u001b[1;33m\u001b[0m\u001b[0m\n",
      "\u001b[1;32mC:\\anaconda\\lib\\site-packages\\sklearn\\neighbors\\_base.py\u001b[0m in \u001b[0;36m_tree_query_radius_parallel_helper\u001b[1;34m(tree, *args, **kwargs)\u001b[0m\n\u001b[0;32m    949\u001b[0m     \u001b[0mcloudpickle\u001b[0m \u001b[0munder\u001b[0m \u001b[0mPyPy\u001b[0m\u001b[1;33m.\u001b[0m\u001b[1;33m\u001b[0m\u001b[1;33m\u001b[0m\u001b[0m\n\u001b[0;32m    950\u001b[0m     \"\"\"\n\u001b[1;32m--> 951\u001b[1;33m     \u001b[1;32mreturn\u001b[0m \u001b[0mtree\u001b[0m\u001b[1;33m.\u001b[0m\u001b[0mquery_radius\u001b[0m\u001b[1;33m(\u001b[0m\u001b[1;33m*\u001b[0m\u001b[0margs\u001b[0m\u001b[1;33m,\u001b[0m \u001b[1;33m**\u001b[0m\u001b[0mkwargs\u001b[0m\u001b[1;33m)\u001b[0m\u001b[1;33m\u001b[0m\u001b[1;33m\u001b[0m\u001b[0m\n\u001b[0m\u001b[0;32m    952\u001b[0m \u001b[1;33m\u001b[0m\u001b[0m\n\u001b[0;32m    953\u001b[0m \u001b[1;33m\u001b[0m\u001b[0m\n",
      "\u001b[1;32msklearn\\neighbors\\_binary_tree.pxi\u001b[0m in \u001b[0;36msklearn.neighbors._kd_tree.BinaryTree.query_radius\u001b[1;34m()\u001b[0m\n",
      "\u001b[1;32msklearn\\neighbors\\_binary_tree.pxi\u001b[0m in \u001b[0;36msklearn.neighbors._kd_tree.BinaryTree.query_radius\u001b[1;34m()\u001b[0m\n",
      "\u001b[1;31mMemoryError\u001b[0m: "
     ]
    }
   ],
   "source": [
    "dbscan=DBSCAN(eps=1,min_samples=len(df.columns)+1)\n",
    "dbscan.fit(scaled)"
   ]
  },
  {
   "cell_type": "code",
   "execution_count": null,
   "id": "21032d49",
   "metadata": {},
   "outputs": [],
   "source": [
    "set(dbscan.labels_)"
   ]
  },
  {
   "cell_type": "markdown",
   "id": "6ebd15ee",
   "metadata": {},
   "source": [
    "## naumna\n",
    "* decision tree\n",
    "* random forest\n",
    "* gradient boosting"
   ]
  },
  {
   "cell_type": "code",
   "execution_count": 166,
   "id": "5b75e910",
   "metadata": {},
   "outputs": [
    {
     "data": {
      "text/plain": [
       "((134683, 21), (57722, 20))"
      ]
     },
     "execution_count": 166,
     "metadata": {},
     "output_type": "execute_result"
    }
   ],
   "source": [
    "train.shape,test.shape"
   ]
  },
  {
   "cell_type": "code",
   "execution_count": 167,
   "id": "b88698b4",
   "metadata": {},
   "outputs": [],
   "source": [
    "newtrain=new.loc[0:train.shape[0]-1,:]"
   ]
  },
  {
   "cell_type": "code",
   "execution_count": 168,
   "id": "c6b25428",
   "metadata": {},
   "outputs": [],
   "source": [
    "newtest=new.loc[train.shape[0]:,:]"
   ]
  },
  {
   "cell_type": "code",
   "execution_count": 169,
   "id": "347ca548",
   "metadata": {},
   "outputs": [],
   "source": [
    "# drop the target variable from newtest\n",
    "newtest=newtest.drop('price',axis=1)"
   ]
  },
  {
   "cell_type": "code",
   "execution_count": 170,
   "id": "edcbd085",
   "metadata": {},
   "outputs": [
    {
     "data": {
      "text/plain": [
       "(57722, 16)"
      ]
     },
     "execution_count": 170,
     "metadata": {},
     "output_type": "execute_result"
    }
   ],
   "source": [
    "newtest.shape"
   ]
  },
  {
   "cell_type": "code",
   "execution_count": 171,
   "id": "51f72018",
   "metadata": {},
   "outputs": [],
   "source": [
    "dummytrain=pd.get_dummies(newtrain,drop_first=True)\n",
    "dummytest=pd.get_dummies(newtest,drop_first=True)"
   ]
  },
  {
   "cell_type": "code",
   "execution_count": 172,
   "id": "20260581",
   "metadata": {},
   "outputs": [
    {
     "data": {
      "text/plain": [
       "((134683, 20), (57722, 19), (57722, 20))"
      ]
     },
     "execution_count": 172,
     "metadata": {},
     "output_type": "execute_result"
    }
   ],
   "source": [
    "dummytrain.shape,dummytest.shape,test.shape"
   ]
  },
  {
   "cell_type": "code",
   "execution_count": 173,
   "id": "920460b3",
   "metadata": {},
   "outputs": [
    {
     "data": {
      "text/plain": [
       "array([-8.18461595e+08, -7.70370950e+08, -7.53324027e+08, -8.01619554e+08,\n",
       "       -7.48214095e+08])"
      ]
     },
     "execution_count": 173,
     "metadata": {},
     "output_type": "execute_result"
    }
   ],
   "source": [
    "from sklearn.ensemble import RandomForestRegressor\n",
    "from sklearn.model_selection import cross_val_score\n",
    "rf=RandomForestRegressor()\n",
    "x=dummytrain.drop('price',axis=1)\n",
    "y=dummytrain.price\n",
    "cross_val_score(estimator=rf,X=x,y=y,cv=5,scoring='neg_mean_squared_error')"
   ]
  },
  {
   "cell_type": "code",
   "execution_count": null,
   "id": "2f47789c",
   "metadata": {},
   "outputs": [],
   "source": []
  },
  {
   "cell_type": "code",
   "execution_count": 174,
   "id": "3b69e36f",
   "metadata": {},
   "outputs": [],
   "source": [
    "rf=RandomForestRegressor()\n",
    "\n",
    "pred_rf=rf.fit(x,y).predict(dummytest)"
   ]
  },
  {
   "cell_type": "code",
   "execution_count": 175,
   "id": "ca78324a",
   "metadata": {},
   "outputs": [],
   "source": [
    "solution=pd.DataFrame({'price':pred_rf})\n",
    "solution.to_csv('RF Model.csv',index=False) # RMSE"
   ]
  },
  {
   "cell_type": "code",
   "execution_count": 176,
   "id": "0a58c744",
   "metadata": {},
   "outputs": [],
   "source": [
    "from sklearn.ensemble import GradientBoostingRegressor\n",
    "gbr=GradientBoostingRegressor()\n",
    "pred_gbr=gbr.fit(x,y).predict(dummytest)\n",
    "\n",
    "solution=pd.DataFrame({'price':pred_gbr})\n",
    "solution.to_csv('GBR Model.csv',index=False)\n",
    "\n"
   ]
  },
  {
   "cell_type": "code",
   "execution_count": 177,
   "id": "5fa9f8e4",
   "metadata": {},
   "outputs": [
    {
     "name": "stdout",
     "output_type": "stream",
     "text": [
      "Collecting lightgbm\n",
      "  Downloading lightgbm-3.3.2-py3-none-win_amd64.whl (1.0 MB)\n",
      "Requirement already satisfied: wheel in c:\\anaconda\\lib\\site-packages (from lightgbm) (0.37.0)\n",
      "Requirement already satisfied: scikit-learn!=0.22.0 in c:\\anaconda\\lib\\site-packages (from lightgbm) (1.1.1)\n",
      "Requirement already satisfied: scipy in c:\\anaconda\\lib\\site-packages (from lightgbm) (1.7.1)\n",
      "Requirement already satisfied: numpy in c:\\anaconda\\lib\\site-packages (from lightgbm) (1.20.3)\n",
      "Requirement already satisfied: joblib>=1.0.0 in c:\\anaconda\\lib\\site-packages (from scikit-learn!=0.22.0->lightgbm) (1.1.0)\n",
      "Requirement already satisfied: threadpoolctl>=2.0.0 in c:\\anaconda\\lib\\site-packages (from scikit-learn!=0.22.0->lightgbm) (2.2.0)\n",
      "Installing collected packages: lightgbm\n",
      "Successfully installed lightgbm-3.3.2\n"
     ]
    }
   ],
   "source": [
    "! pip3 install lightgbm"
   ]
  },
  {
   "cell_type": "code",
   "execution_count": 178,
   "id": "9a4f97b6",
   "metadata": {},
   "outputs": [],
   "source": [
    "import lightgbm as lgbm\n",
    "light=lgbm.LGBMRegressor()\n",
    "pred_light=light.fit(x,y).predict(dummytest)"
   ]
  },
  {
   "cell_type": "code",
   "execution_count": 179,
   "id": "c84d00e9",
   "metadata": {},
   "outputs": [],
   "source": [
    "import xgboost as xgb\n",
    "xgb_r=xgb.XGBRFRegressor()\n",
    "pred_xgb=xgb_r.fit(x,y).predict(dummytest)"
   ]
  },
  {
   "cell_type": "code",
   "execution_count": 181,
   "id": "f56a4fd5",
   "metadata": {},
   "outputs": [],
   "source": [
    "predictions=pd.DataFrame(data=[pred_gbr,pred_light,pred_xgb]).T"
   ]
  },
  {
   "cell_type": "code",
   "execution_count": 182,
   "id": "7a37a1a0",
   "metadata": {},
   "outputs": [],
   "source": [
    "predictions=pd.DataFrame({'price':predictions.mean(axis=1)})\n",
    "solution.to_csv('finalsubmission.csv',index=False)"
   ]
  },
  {
   "cell_type": "code",
   "execution_count": null,
   "id": "7d3e5243",
   "metadata": {},
   "outputs": [],
   "source": [
    "# check the properties "
   ]
  }
 ],
 "metadata": {
  "kernelspec": {
   "display_name": "Python 3 (ipykernel)",
   "language": "python",
   "name": "python3"
  },
  "language_info": {
   "codemirror_mode": {
    "name": "ipython",
    "version": 3
   },
   "file_extension": ".py",
   "mimetype": "text/x-python",
   "name": "python",
   "nbconvert_exporter": "python",
   "pygments_lexer": "ipython3",
   "version": "3.9.7"
  }
 },
 "nbformat": 4,
 "nbformat_minor": 5
}
